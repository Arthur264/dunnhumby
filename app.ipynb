{
 "cells": [
  {
   "cell_type": "code",
   "execution_count": 1,
   "metadata": {},
   "outputs": [],
   "source": [
    "import sys\n",
    "import numpy as np\n",
    "import pandas as pd\n",
    "from scipy import stats\n",
    "pd.options.mode.chained_assignment = None "
   ]
  },
  {
   "cell_type": "code",
   "execution_count": null,
   "metadata": {},
   "outputs": [],
   "source": [
    "df_category = pd.read_excel('https://www.dropbox.com/s/jcdjj2znimqbico/category.xlsx?dl=1')\n",
    "df_sales = pd.read_excel('https://www.dropbox.com/s/7359pamv5jcq1cl/sales.xlsx?dl=1')"
   ]
  },
  {
   "cell_type": "code",
   "execution_count": null,
   "metadata": {},
   "outputs": [],
   "source": [
    "def keep_cols(DataFrame, keep_these):\n",
    "    drop_these = list(set(list(DataFrame)) - set(keep_these))\n",
    "    return DataFrame.drop(drop_these, axis = 1)"
   ]
  },
  {
   "cell_type": "code",
   "execution_count": null,
   "metadata": {},
   "outputs": [],
   "source": [
    "df_sales = df_sales.pipe(keep_cols, ['UPC', 'BASE_PRICE', 'PRICE', 'UNITS'])\n",
    "df_category = df_category.pipe(keep_cols, ['UPC', 'CATEGORY'])"
   ]
  },
  {
   "cell_type": "code",
   "execution_count": null,
   "metadata": {},
   "outputs": [],
   "source": [
    "df_sales.head()"
   ]
  },
  {
   "cell_type": "code",
   "execution_count": null,
   "metadata": {},
   "outputs": [],
   "source": [
    "unique_upc = df_sales['UPC'].unique()"
   ]
  },
  {
   "cell_type": "code",
   "execution_count": null,
   "metadata": {},
   "outputs": [],
   "source": [
    "corr_df = df_sales[df_sales['UPC'] == unique_upc[2]]\n",
    "del corr_df['UPC']\n",
    "corr_df.corr()"
   ]
  },
  {
   "cell_type": "code",
   "execution_count": null,
   "metadata": {},
   "outputs": [],
   "source": [
    "def get_optimal_price(current_df):\n",
    "    current_df['demand'] = current_df['BASE_PRICE'] - current_df['PRICE']\n",
    "    df = current_df[current_df['demand'] > 0]\n",
    "    df['profit'] = df['demand'] * df['UNITS']\n",
    "    df['zscore'] = np.abs(stats.zscore(df['PRICE']))\n",
    "    df = df[df['zscore'] < 3]\n",
    "    df_std = np.std(df['PRICE']) / 2\n",
    "    index_max = df['profit'].idxmax()\n",
    "    df_max = df.loc[index_max, 'PRICE']\n",
    "    price_arr = df[(df['PRICE'] > df_max - df_std) & (df['PRICE'] < df_max + df_std)]['PRICE']\n",
    "    return np.mean(price_arr)"
   ]
  },
  {
   "cell_type": "code",
   "execution_count": null,
   "metadata": {},
   "outputs": [],
   "source": [
    "upc_df = pd.DataFrame(columns=['upc', 'price'])\n",
    "for upc in unique_upc:\n",
    "    df = df_sales[df_sales['UPC'] == upc]\n",
    "    upc_df = upc_df.append({'upc': str(upc), 'price': get_optimal_price(df)}, ignore_index=True)"
   ]
  },
  {
   "cell_type": "code",
   "execution_count": null,
   "metadata": {},
   "outputs": [],
   "source": [
    "upc_df"
   ]
  },
  {
   "cell_type": "code",
   "execution_count": null,
   "metadata": {},
   "outputs": [],
   "source": [
    "full_df = pd.merge(df_sales, df_category, on='UPC')"
   ]
  },
  {
   "cell_type": "code",
   "execution_count": null,
   "metadata": {},
   "outputs": [],
   "source": [
    "full_df.head()"
   ]
  },
  {
   "cell_type": "code",
   "execution_count": null,
   "metadata": {},
   "outputs": [],
   "source": [
    "unique_category = full_df['CATEGORY'].unique()"
   ]
  },
  {
   "cell_type": "code",
   "execution_count": null,
   "metadata": {},
   "outputs": [],
   "source": [
    "category_df = pd.DataFrame(columns=['category', 'price'])\n",
    "for category in unique_category:\n",
    "    df = full_df[full_df['CATEGORY'] == category]\n",
    "    del df['CATEGORY']\n",
    "    category_df = category_df.append({'category': category, 'price': get_optimal_price(df)}, ignore_index=True)"
   ]
  },
  {
   "cell_type": "code",
   "execution_count": null,
   "metadata": {
    "collapsed": true
   },
   "outputs": [],
   "source": [
    "category_df"
   ]
  }
 ],
 "metadata": {
  "kernelspec": {
   "display_name": "Python 3",
   "language": "python",
   "name": "python3"
  },
  "language_info": {
   "codemirror_mode": {
    "name": "ipython",
    "version": 3
   },
   "file_extension": ".py",
   "mimetype": "text/x-python",
   "name": "python",
   "nbconvert_exporter": "python",
   "pygments_lexer": "ipython3",
   "version": "3.5.2"
  }
 },
 "nbformat": 4,
 "nbformat_minor": 2
}
